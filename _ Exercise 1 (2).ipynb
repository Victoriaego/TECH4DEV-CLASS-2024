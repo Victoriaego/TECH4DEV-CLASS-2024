{
 "cells": [
  {
   "cell_type": "raw",
   "id": "17d78c31",
   "metadata": {},
   "source": [
    "# 1.\tWhat is the output of the following print statements?"
   ]
  },
  {
   "cell_type": "code",
   "execution_count": 1,
   "id": "fbb764d2",
   "metadata": {
    "scrolled": false
   },
   "outputs": [
    {
     "name": "stdout",
     "output_type": "stream",
     "text": [
      "\ta\tb\tc\n"
     ]
    }
   ],
   "source": [
    "print(\"\\ta\\tb\\tc\") "
   ]
  },
  {
   "cell_type": "code",
   "execution_count": 2,
   "id": "dcad701f",
   "metadata": {},
   "outputs": [
    {
     "name": "stdout",
     "output_type": "stream",
     "text": [
      "\\\\\n"
     ]
    }
   ],
   "source": [
    "print(\"\\\\\\\\\")"
   ]
  },
  {
   "cell_type": "code",
   "execution_count": 3,
   "id": "70320b3d",
   "metadata": {},
   "outputs": [
    {
     "name": "stdout",
     "output_type": "stream",
     "text": [
      "'\n"
     ]
    }
   ],
   "source": [
    "print(\"'\")"
   ]
  },
  {
   "cell_type": "code",
   "execution_count": 4,
   "id": "43ba1abc",
   "metadata": {},
   "outputs": [
    {
     "name": "stdout",
     "output_type": "stream",
     "text": [
      "\"\"\"\n"
     ]
    }
   ],
   "source": [
    "print(\"\\\"\\\"\\\"\")"
   ]
  },
  {
   "cell_type": "code",
   "execution_count": 5,
   "id": "4898ccd4",
   "metadata": {},
   "outputs": [
    {
     "name": "stdout",
     "output_type": "stream",
     "text": [
      "C:\n",
      "in\the downward spiral\n"
     ]
    }
   ],
   "source": [
    "print(\"C:\\nin\\the downward spiral\")"
   ]
  },
  {
   "cell_type": "raw",
   "id": "68e81c8e",
   "metadata": {},
   "source": [
    "# 2.\tWrite a print statement to produce this output:/ \\ // \\\\ /// \\\\\\"
   ]
  },
  {
   "cell_type": "code",
   "execution_count": 16,
   "id": "54ca4909",
   "metadata": {},
   "outputs": [
    {
     "name": "stdout",
     "output_type": "stream",
     "text": [
      "/ \\ // \\\\ /// \\\\\\\n"
     ]
    }
   ],
   "source": [
    "print(\"/ \\\\ // \\\\\\\\ /// \\\\\\\\\\\\\")"
   ]
  },
  {
   "cell_type": "raw",
   "id": "08fcff7f",
   "metadata": {},
   "source": [
    "3.\tWhat print statements will generate this output?"
   ]
  },
  {
   "cell_type": "code",
   "execution_count": 27,
   "id": "bf7472a5",
   "metadata": {
    "scrolled": false
   },
   "outputs": [
    {
     "name": "stdout",
     "output_type": "stream",
     "text": [
      "This quote is from Irish poet Oscar Wilde:\n",
      "Music makes one feel so romantic\n",
      "- at least it always gets on one's nerves -\n",
      "which is the same thing nowadays.\n"
     ]
    }
   ],
   "source": [
    "print (\"This quote is from Irish poet Oscar Wilde:\")\n",
    "print(\"Music makes one feel so romantic\")\n",
    "print(\"- at least it always gets on one's nerves -\")\n",
    "print(\"which is the same thing nowadays.\")\n",
    "\n",
    "      "
   ]
  },
  {
   "cell_type": "raw",
   "id": "75d09c64",
   "metadata": {},
   "source": [
    "4.\tWhat print statements will generate this output?"
   ]
  },
  {
   "cell_type": "code",
   "execution_count": 34,
   "id": "8970edc4",
   "metadata": {
    "scrolled": true
   },
   "outputs": [
    {
     "ename": "SyntaxError",
     "evalue": "invalid syntax. Perhaps you forgot a comma? (611204498.py, line 1)",
     "output_type": "error",
     "traceback": [
      "\u001b[1;36m  Cell \u001b[1;32mIn[34], line 1\u001b[1;36m\u001b[0m\n\u001b[1;33m    print (\"A\"quoted\" String is 'much' better if you learn\")\u001b[0m\n\u001b[1;37m           ^\u001b[0m\n\u001b[1;31mSyntaxError\u001b[0m\u001b[1;31m:\u001b[0m invalid syntax. Perhaps you forgot a comma?\n"
     ]
    }
   ],
   "source": [
    "print (\"A \"quoted\" String is 'much' better if you learn\")\n",
    "print(\"the rules of \"escape sequences.\" Also\")\n",
    "print(\"\" represents an em\"pty String.\")\n",
    "print(\"Don't forget: use \\\" instead of \" ! '' is not the same as )"
   ]
  },
  {
   "cell_type": "raw",
   "id": "137126c6",
   "metadata": {},
   "source": [
    "5.\tWhat values result from the following expressions?"
   ]
  },
  {
   "cell_type": "code",
   "execution_count": 18,
   "id": "8f4780c4",
   "metadata": {},
   "outputs": [
    {
     "name": "stdout",
     "output_type": "stream",
     "text": [
      "1.8\n"
     ]
    }
   ],
   "source": [
    "print( 9 / 5)\n"
   ]
  },
  {
   "cell_type": "code",
   "execution_count": 19,
   "id": "9502300f",
   "metadata": {},
   "outputs": [
    {
     "name": "stdout",
     "output_type": "stream",
     "text": [
      "15\n"
     ]
    }
   ],
   "source": [
    "print(695 % 20)"
   ]
  },
  {
   "cell_type": "code",
   "execution_count": 20,
   "id": "4d171b1a",
   "metadata": {},
   "outputs": [
    {
     "name": "stdout",
     "output_type": "stream",
     "text": [
      "37\n"
     ]
    }
   ],
   "source": [
    "print(7 + 6 * 5)"
   ]
  },
  {
   "cell_type": "code",
   "execution_count": 21,
   "id": "1854b373",
   "metadata": {
    "scrolled": true
   },
   "outputs": [
    {
     "name": "stdout",
     "output_type": "stream",
     "text": [
      "47\n"
     ]
    }
   ],
   "source": [
    "print(7 * 6 + 5)"
   ]
  },
  {
   "cell_type": "code",
   "execution_count": 22,
   "id": "3f14cf3d",
   "metadata": {},
   "outputs": [
    {
     "name": "stdout",
     "output_type": "stream",
     "text": [
      "9.6\n"
     ]
    }
   ],
   "source": [
    "print(248 % 100 / 5)"
   ]
  },
  {
   "cell_type": "code",
   "execution_count": 23,
   "id": "9f591518",
   "metadata": {},
   "outputs": [
    {
     "name": "stdout",
     "output_type": "stream",
     "text": [
      "15.75\n"
     ]
    }
   ],
   "source": [
    "print(6 * 3 - 9 / 4)"
   ]
  },
  {
   "cell_type": "code",
   "execution_count": 24,
   "id": "0212cbe7",
   "metadata": {},
   "outputs": [
    {
     "name": "stdout",
     "output_type": "stream",
     "text": [
      "-8\n"
     ]
    }
   ],
   "source": [
    "print((5 - 7) * 4)"
   ]
  },
  {
   "cell_type": "code",
   "execution_count": 25,
   "id": "ce705563",
   "metadata": {},
   "outputs": [
    {
     "name": "stdout",
     "output_type": "stream",
     "text": [
      "9\n"
     ]
    }
   ],
   "source": [
    "print(6 + (18 % (17 - 12)))"
   ]
  }
 ],
 "metadata": {
  "kernelspec": {
   "display_name": "Python 3 (ipykernel)",
   "language": "python",
   "name": "python3"
  },
  "language_info": {
   "codemirror_mode": {
    "name": "ipython",
    "version": 3
   },
   "file_extension": ".py",
   "mimetype": "text/x-python",
   "name": "python",
   "nbconvert_exporter": "python",
   "pygments_lexer": "ipython3",
   "version": "3.11.5"
  }
 },
 "nbformat": 4,
 "nbformat_minor": 5
}
