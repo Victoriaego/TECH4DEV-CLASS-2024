{
 "cells": [
  {
   "cell_type": "code",
   "execution_count": 1,
   "id": "19b8ee58",
   "metadata": {},
   "outputs": [
    {
     "name": "stdout",
     "output_type": "stream",
     "text": [
      "23\n"
     ]
    }
   ],
   "source": [
    "# 1.\n",
    "\n",
    "list_num = [2, 4, 7, 4, 23, 5, 1, 4, 8, 9]\n",
    "print(max(list_num))"
   ]
  },
  {
   "cell_type": "code",
   "execution_count": null,
   "id": "4d1f2938",
   "metadata": {},
   "outputs": [],
   "source": []
  },
  {
   "cell_type": "code",
   "execution_count": 2,
   "id": "0b4b8efb",
   "metadata": {},
   "outputs": [
    {
     "name": "stdout",
     "output_type": "stream",
     "text": [
      "24.6\n"
     ]
    }
   ],
   "source": [
    "# 2.\n",
    "\n",
    "list_num1 = [4, 7, 1, 5, 11, 53, 12, 46, 84, 23]\n",
    "print(sum(list_num1)/len(list_num1))"
   ]
  },
  {
   "cell_type": "code",
   "execution_count": null,
   "id": "49727a83",
   "metadata": {},
   "outputs": [],
   "source": []
  },
  {
   "cell_type": "code",
   "execution_count": 3,
   "id": "43143e7e",
   "metadata": {},
   "outputs": [
    {
     "name": "stdout",
     "output_type": "stream",
     "text": [
      "[5, 89, 45, 14, 53, 23, 45, 7, 6, 2]\n"
     ]
    }
   ],
   "source": [
    "# 3.\n",
    "\n",
    "list_num2 = [2, 6, 7, 45, 23, 53, 14, 45, 89, 5]\n",
    "list_num2.reverse()\n",
    "print(list_num2)"
   ]
  },
  {
   "cell_type": "code",
   "execution_count": null,
   "id": "edf59964",
   "metadata": {},
   "outputs": [],
   "source": []
  },
  {
   "cell_type": "code",
   "execution_count": null,
   "id": "efab5bed",
   "metadata": {},
   "outputs": [],
   "source": [
    "# 4.\n",
    "\n",
    "#   Write a program that accepts two lists of integers and prints true if each element in the first \n",
    "#   list is less than the element at the same index in the second list. Your program should print \n",
    "#   false if the lists are not the same length."
   ]
  },
  {
   "cell_type": "code",
   "execution_count": 18,
   "id": "422a6aab",
   "metadata": {},
   "outputs": [
    {
     "name": "stdout",
     "output_type": "stream",
     "text": [
      "true\n",
      "true\n",
      "true\n"
     ]
    }
   ],
   "source": [
    "# 4a.\n",
    "list_int1 = [1, 2, 3, 2, 4, 1, 8]\n",
    "list_int2 = [2, 1, 5, 1, 5, 1, 4]   \n",
    "for i in range(len(list_int1)):\n",
    "        if list_int1[i] < list_int2[i]:\n",
    "            print(\"true\")"
   ]
  },
  {
   "cell_type": "code",
   "execution_count": 6,
   "id": "6e8a75b9",
   "metadata": {},
   "outputs": [
    {
     "name": "stdout",
     "output_type": "stream",
     "text": [
      "false\n"
     ]
    }
   ],
   "source": [
    "# 4b \n",
    "list_int1 = [1, 2, 3, 2, 4, 1, 8, 2]\n",
    "list_int2 = [2, 1, 5, 1, 5, 1, 4]\n",
    "if len(list_int1) != len(list_int2):\n",
    "    print(\"false\")"
   ]
  },
  {
   "cell_type": "code",
   "execution_count": null,
   "id": "353c2ecf",
   "metadata": {},
   "outputs": [],
   "source": []
  },
  {
   "cell_type": "code",
   "execution_count": 27,
   "id": "39921e16",
   "metadata": {},
   "outputs": [
    {
     "name": "stdout",
     "output_type": "stream",
     "text": [
      "[2, 4]\n"
     ]
    }
   ],
   "source": [
    "#5. Write a program that accepts a list of integers and two indexes and swaps the elements at those indexes\n",
    "\n",
    "list1 = [1, 3]\n",
    "list1[0] = 2\n",
    "list1[1] = 4\n",
    "print(list1)"
   ]
  },
  {
   "cell_type": "code",
   "execution_count": null,
   "id": "631f68b5",
   "metadata": {},
   "outputs": [],
   "source": []
  },
  {
   "cell_type": "code",
   "execution_count": 19,
   "id": "bc950ff2",
   "metadata": {},
   "outputs": [
    {
     "name": "stdout",
     "output_type": "stream",
     "text": [
      "[1, 2, 3, 2, 4, 1, 8, 2, 1, 5, 1, 5, 1, 4]\n"
     ]
    }
   ],
   "source": [
    "# 6. Write a program that accepts two lists of integers and prints a new list containing all \n",
    "#   elements of the first list followed by all elements of the second.\n",
    "\n",
    "list_int1 = [1, 2, 3, 2, 4, 1, 8]\n",
    "list_int2 = [2, 1, 5, 1, 5, 1, 4]\n",
    "print(list_int1 + list_int2)"
   ]
  },
  {
   "cell_type": "code",
   "execution_count": null,
   "id": "c2c1957c",
   "metadata": {},
   "outputs": [],
   "source": []
  },
  {
   "cell_type": "code",
   "execution_count": 49,
   "id": "d16d0fc5",
   "metadata": {},
   "outputs": [],
   "source": [
    "# 7. Write a program that accepts a list of integers and an integer value as its parameters and \n",
    "#    prints the last index at which the value occurs in the list. The program should print –1 if the \n",
    "#    value is not found. For example, in the list [74, 85, 102, 99, 101, 85, 56], the last index of the value 85 is 5.\n",
    "\n",
    "# To print value 12"
   ]
  },
  {
   "cell_type": "code",
   "execution_count": 48,
   "id": "35eb5573",
   "metadata": {},
   "outputs": [
    {
     "name": "stdout",
     "output_type": "stream",
     "text": [
      "5\n"
     ]
    }
   ],
   "source": [
    "list3 = [10, 15, 56, 20, 56, 12, 4, 31, 22]\n",
    "print(list3.index(12))"
   ]
  },
  {
   "cell_type": "code",
   "execution_count": null,
   "id": "743cfca3",
   "metadata": {},
   "outputs": [],
   "source": []
  },
  {
   "cell_type": "code",
   "execution_count": null,
   "id": "6fc530fb",
   "metadata": {},
   "outputs": [],
   "source": [
    "# 8. Write a program that prints the range of values in a list of integers. The range is defined as 1 \n",
    "#    more than the difference between the maximum and minimum values in the list. For \n",
    "#    example, if a list contains the values [36, 12, 25, 19, 46, 31, 22], the program should return \n",
    "#    35. You may assume that the list has at least one element.\n"
   ]
  },
  {
   "cell_type": "code",
   "execution_count": 47,
   "id": "97b270ff",
   "metadata": {},
   "outputs": [
    {
     "name": "stdout",
     "output_type": "stream",
     "text": [
      "35\n"
     ]
    }
   ],
   "source": [
    "list4 = [36, 12, 25, 19, 46, 31, 22]\n",
    "min_value = min(list4)\n",
    "max_value = max(list4)\n",
    "range1 = max_value - min_value + 1\n",
    "print(range1)"
   ]
  },
  {
   "cell_type": "code",
   "execution_count": null,
   "id": "9a07a035",
   "metadata": {},
   "outputs": [],
   "source": []
  },
  {
   "cell_type": "code",
   "execution_count": null,
   "id": "5dd095fb",
   "metadata": {},
   "outputs": [],
   "source": [
    "# 9. Write a program that accepts a list of integers, a minimum value, and a maximum value and \n",
    "#   prints the count of how many elements from the list fall between the minimum and \n",
    "#   maximum (inclusive). For example, in the list [14, 1, 22, 17, 36, 7, -43, 5], for minimum value \n",
    "#   4 and maximum value 17, there are four elements whose values fall between 4 and 17.\n"
   ]
  },
  {
   "cell_type": "code",
   "execution_count": null,
   "id": "88b8924c",
   "metadata": {},
   "outputs": [],
   "source": []
  },
  {
   "cell_type": "code",
   "execution_count": null,
   "id": "f2047a3c",
   "metadata": {},
   "outputs": [],
   "source": [
    "# 10. Write a program that accepts a list of real numbers and prints true if the list is in sorted \n",
    "#   (nondecreasing) order and false otherwise. For example, if lists named list1 and list2 store \n",
    "#   [16.1, 12.3, 22.2, 14.4] and [1.5, 4.3, 7.0, 19.5, 25.1, 46.2] respectively, the program should \n",
    "#   print false for list1 and true for list2 respectively. Assume the list has at least one element. A \n",
    "#   one-element list is sorted"
   ]
  }
 ],
 "metadata": {
  "kernelspec": {
   "display_name": "Python 3 (ipykernel)",
   "language": "python",
   "name": "python3"
  },
  "language_info": {
   "codemirror_mode": {
    "name": "ipython",
    "version": 3
   },
   "file_extension": ".py",
   "mimetype": "text/x-python",
   "name": "python",
   "nbconvert_exporter": "python",
   "pygments_lexer": "ipython3",
   "version": "3.11.5"
  }
 },
 "nbformat": 4,
 "nbformat_minor": 5
}
